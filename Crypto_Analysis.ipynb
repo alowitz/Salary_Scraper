{
 "cells": [
  {
   "cell_type": "code",
   "execution_count": 445,
   "id": "d408f0e6-0dd2-47f0-a469-8ef7d0303ec5",
   "metadata": {},
   "outputs": [],
   "source": [
    "import pandas as pd\n",
    "import numpy as np\n",
    "import matplotlib.pyplot as plt\n",
    "import seaborn as sns\n",
    "import datetime\n",
    "import requests\n",
    "import json"
   ]
  },
  {
   "cell_type": "markdown",
   "id": "2ed2026c-9295-4e03-8035-cc9813f298e6",
   "metadata": {},
   "source": [
    "# Get list of top coins"
   ]
  },
  {
   "cell_type": "code",
   "execution_count": 446,
   "id": "381e3dae-a9a5-4fc9-97a5-bfa42299b6ae",
   "metadata": {},
   "outputs": [],
   "source": [
    "# Set the API endpoint URL\n",
    "def get_top_coins(num_of_coins):\n",
    "    \n",
    "    url = \"https://pro-api.coinmarketcap.com/v1/cryptocurrency/listings/latest\"\n",
    "\n",
    "    # Set the request parameters\n",
    "    parameters = {\n",
    "        \"sort\": \"market_cap\",  # Sort the data by market capitalization\n",
    "        \"sort_dir\": \"desc\",  # Sort the data in descending order\n",
    "        \"limit\": num_of_coins,  # The maximum number of data points to retrieve\n",
    "        \"convert\": \"USD\",  # The currency to convert the prices to\n",
    "    }\n",
    "\n",
    "    # Set the API key\n",
    "    headers = {\n",
    "        \"X-CMC_PRO_API_KEY\": \"f7885d33-cf7e-4c18-a14c-326c1c7de324\"\n",
    "    }\n",
    "\n",
    "    # Make the request\n",
    "    response = requests.get(url, headers=headers, params=parameters)\n",
    "\n",
    "\n",
    "    data1 = json.loads(response.text)\n",
    "    # Get the list of cryptocurrencies from the data\n",
    "    cryptocurrencies = data1[\"data\"]\n",
    "    \n",
    "    #Get list of coins\n",
    "    global top_coins\n",
    "    top_coins = []\n",
    "    for idx, crypto in enumerate(cryptocurrencies):\n",
    "        top_coins.append(cryptocurrencies[idx]['name'])\n",
    "        \n",
    "    return top_coins"
   ]
  },
  {
   "cell_type": "code",
   "execution_count": 447,
   "id": "24f4566f-38e5-40d2-b10b-b45f161c4dfe",
   "metadata": {},
   "outputs": [
    {
     "data": {
      "text/plain": [
       "['Bitcoin',\n",
       " 'Ethereum',\n",
       " 'BNB',\n",
       " 'XRP',\n",
       " 'Dogecoin',\n",
       " 'Cardano',\n",
       " 'Polygon',\n",
       " 'Litecoin',\n",
       " 'TRON',\n",
       " 'Polkadot',\n",
       " 'Uniswap',\n",
       " 'Solana',\n",
       " 'Avalanche']"
      ]
     },
     "execution_count": 447,
     "metadata": {},
     "output_type": "execute_result"
    }
   ],
   "source": [
    "list_to_exclude = ['Tether',\n",
    "                  'USD Coin',\n",
    "                  'Binance USD',\n",
    "                  'Dai',\n",
    "                  'Shiba Inu',\n",
    "                  'UNUS SED LEO',\n",
    "                  'Wrapped Bitcoin']\n",
    "top_coins = [coin for coin in top_coins if coin not in list_to_exclude]\n",
    "top_coins"
   ]
  },
  {
   "cell_type": "markdown",
   "id": "761e7852-b8ed-455a-8022-d0a52d8acab2",
   "metadata": {},
   "source": [
    "# Get coin data from coingecko website"
   ]
  },
  {
   "cell_type": "code",
   "execution_count": 448,
   "id": "d4ecbb79-4205-419a-a1a2-3220375199bc",
   "metadata": {},
   "outputs": [],
   "source": [
    "def get_coin_data(coin):\n",
    "    \n",
    "    coin = coin.lower()\n",
    "    # Set the API endpoint URL\n",
    "    template = \"https://api.coingecko.com/api/v3/coins/{}/market_chart\"\n",
    "    url = template.format(coin)\n",
    "\n",
    "    # Set the request parameters\n",
    "    parameters = {\n",
    "        \"vs_currency\": \"usd\",  # The currency to convert the prices to\n",
    "        \"days\": \"500\",  # The number of days of data to retrieve (730 days is approximately two years)\n",
    "    }\n",
    "\n",
    "    # Make the request\n",
    "    response = requests.get(url, params=parameters)\n",
    "\n",
    "    # Check the status code to make sure the request was successful\n",
    "\n",
    "    coin_data = json.loads(response.text)\n",
    "\n",
    "#     coin_price = coin_data['prices']\n",
    "\n",
    "#     return coin_price\n",
    "\n",
    "    return coin_data"
   ]
  },
  {
   "cell_type": "markdown",
   "id": "7024e252-ba03-4c17-9306-3e60849515ce",
   "metadata": {},
   "source": [
    "# Get coin data for coins in the top_coins list"
   ]
  },
  {
   "cell_type": "code",
   "execution_count": 449,
   "id": "5fae4f00-4b66-43ae-a88d-bfcc1b8178ba",
   "metadata": {},
   "outputs": [
    {
     "name": "stdout",
     "output_type": "stream",
     "text": [
      "Bitcoin\n",
      "Ethereum\n",
      "BNB\n",
      "XRP\n",
      "Dogecoin\n",
      "Cardano\n",
      "Polygon\n",
      "Litecoin\n",
      "TRON\n",
      "Polkadot\n",
      "Uniswap\n",
      "Solana\n",
      "Avalanche\n"
     ]
    }
   ],
   "source": [
    "all_coin_data = {}\n",
    "for coin in top_coins:\n",
    "    try:\n",
    "        exec(f\"{coin} = {get_coin_data(coin)}\", all_coin_data)\n",
    "        print(f\"{coin}\")\n",
    "    except KeyError:\n",
    "        continue\n",
    "        \n",
    "del all_coin_data['__builtins__']\n",
    "list_of_keys = all_coin_data.keys()"
   ]
  },
  {
   "cell_type": "code",
   "execution_count": 450,
   "id": "bc483aba-ee48-4a0f-bb05-df6a608db1dc",
   "metadata": {},
   "outputs": [
    {
     "name": "stdout",
     "output_type": "stream",
     "text": [
      "['prices', 'market_caps', 'total_volumes']\n"
     ]
    }
   ],
   "source": [
    "columns = []\n",
    "for key, value in all_coin_data['Solana'].items():\n",
    "    columns.append(key)\n",
    "print(columns)"
   ]
  },
  {
   "cell_type": "code",
   "execution_count": 451,
   "id": "f4a62703-c90d-4ad4-8798-339ce3fd3128",
   "metadata": {},
   "outputs": [
    {
     "name": "stdout",
     "output_type": "stream",
     "text": [
      "price Dataframes: ['Bitcoin_price', 'Ethereum_price', 'Dogecoin_price', 'Cardano_price', 'Litecoin_price', 'TRON_price', 'Polkadot_price', 'Uniswap_price', 'Solana_price']\n",
      "\n",
      "Market Cap Dataframes: ['Bitcoin_market_cap', 'Ethereum_market_cap', 'Dogecoin_market_cap', 'Cardano_market_cap', 'Litecoin_market_cap', 'TRON_market_cap', 'Polkadot_market_cap', 'Uniswap_market_cap', 'Solana_market_cap']\n",
      "\n",
      "Volume Dataframes: ['Bitcoin_volume', 'Ethereum_volume', 'Dogecoin_volume', 'Cardano_volume', 'Litecoin_volume', 'TRON_volume', 'Polkadot_volume', 'Uniswap_volume', 'Solana_volume']\n",
      "\n"
     ]
    }
   ],
   "source": [
    "price_dfs = []\n",
    "market_cap_dfs = []\n",
    "volume_dfs = []\n",
    "for coins, element in all_coin_data.items():\n",
    "    try:\n",
    "        price_data = all_coin_data[coins]['prices']\n",
    "        market_cap_data = all_coin_data[coins]['market_caps']\n",
    "        volume_data = all_coin_data[coins]['total_volumes']\n",
    "        \n",
    "        #rice DFs\n",
    "        exec(f\"{coins}_price = pd.DataFrame({price_data}, columns = ['Date','Price'])\")\n",
    "        #Add column for coin ID\n",
    "        exec(f\"{coins}_price['Coin'] = coins\")\n",
    "        price_dfs.append(f\"{coins}_price\")\n",
    "        \n",
    "        #Market Cap DFs\n",
    "        exec(f\"{coins}_market_cap = pd.DataFrame({market_cap_data}, columns=['Date','Market_Cap'])\")\n",
    "        #Add column for coin ID\n",
    "        exec(f\"{coins}_price['Coin'] = coins\")\n",
    "        market_cap_dfs.append(f\"{coins}_market_cap\")\n",
    "        \n",
    "        #Volume DFs\n",
    "        exec(f\"{coins}_volume = pd.DataFrame({volume_data}, columns=['Date','Volume'])\")\n",
    "        #Add column for coin ID\n",
    "        exec(f\"{coins}_price['Coin'] = coins\")\n",
    "        volume_dfs.append(f\"{coins}_volume\")\n",
    "        \n",
    "    except KeyError:\n",
    "        continue\n",
    "print(f\"price Dataframes: {price_dfs}\\n\")\n",
    "print(f\"Market Cap Dataframes: {market_cap_dfs}\\n\")\n",
    "print(f\"Volume Dataframes: {volume_dfs}\\n\")"
   ]
  },
  {
   "cell_type": "code",
   "execution_count": 452,
   "id": "213f8808-abd6-450b-beb2-98a268e99452",
   "metadata": {},
   "outputs": [],
   "source": [
    "def concat_dfs(list_of_dataframes, empty_list):\n",
    "    for string in list_of_dataframes:\n",
    "        dataframe = eval(string)\n",
    "        empty_list.append(dataframe)\n",
    "    consolidated_df = pd.concat(empty_list)\n",
    "    return consolidated_df"
   ]
  },
  {
   "cell_type": "code",
   "execution_count": 453,
   "id": "bdfe57ff-56d4-4ab9-8424-730f92686947",
   "metadata": {},
   "outputs": [],
   "source": [
    "list_of_price_dfs = []\n",
    "price_df = concat_dfs(price_dfs, list_of_price_dfs)"
   ]
  },
  {
   "cell_type": "code",
   "execution_count": 454,
   "id": "93cab7b2-855d-4ab2-8fd1-4c23b3800f9c",
   "metadata": {},
   "outputs": [],
   "source": [
    "list_of_market_cap_dfs = []\n",
    "market_cap_df = concat_dfs(market_cap_dfs, list_of_market_cap_dfs)"
   ]
  },
  {
   "cell_type": "code",
   "execution_count": 455,
   "id": "29149fab-1c2e-4ae0-bddd-eea7372b6033",
   "metadata": {},
   "outputs": [],
   "source": [
    "list_of_volume_dfs = []\n",
    "volume_df = concat_dfs(volume_dfs, list_of_volume_dfs)"
   ]
  },
  {
   "cell_type": "markdown",
   "id": "3962e12c-0e9f-409d-a829-78b3c8f48aa5",
   "metadata": {},
   "source": [
    "# Merge Price, Market Cap, and Volume DFs into one DF along Axis=1"
   ]
  },
  {
   "cell_type": "code",
   "execution_count": 456,
   "id": "de5f2089-6082-49a6-b40b-b77e17547b1c",
   "metadata": {},
   "outputs": [],
   "source": [
    "df = price_df.merge(market_cap_df, on='Date', how='left')\n",
    "df = df.merge(volume_df, on='Date', how='left')"
   ]
  },
  {
   "cell_type": "code",
   "execution_count": 457,
   "id": "7dd20208-1742-40ea-9cac-5a4543ceab99",
   "metadata": {},
   "outputs": [
    {
     "data": {
      "text/html": [
       "<div>\n",
       "<style scoped>\n",
       "    .dataframe tbody tr th:only-of-type {\n",
       "        vertical-align: middle;\n",
       "    }\n",
       "\n",
       "    .dataframe tbody tr th {\n",
       "        vertical-align: top;\n",
       "    }\n",
       "\n",
       "    .dataframe thead th {\n",
       "        text-align: right;\n",
       "    }\n",
       "</style>\n",
       "<table border=\"1\" class=\"dataframe\">\n",
       "  <thead>\n",
       "    <tr style=\"text-align: right;\">\n",
       "      <th></th>\n",
       "      <th>Date</th>\n",
       "      <th>Price</th>\n",
       "      <th>Coin</th>\n",
       "      <th>Market_Cap</th>\n",
       "      <th>Volume</th>\n",
       "    </tr>\n",
       "  </thead>\n",
       "  <tbody>\n",
       "    <tr>\n",
       "      <th>0</th>\n",
       "      <td>1629331200000</td>\n",
       "      <td>45015.465546</td>\n",
       "      <td>Bitcoin</td>\n",
       "      <td>8.471430e+11</td>\n",
       "      <td>3.466900e+10</td>\n",
       "    </tr>\n",
       "    <tr>\n",
       "      <th>1</th>\n",
       "      <td>1629331200000</td>\n",
       "      <td>45015.465546</td>\n",
       "      <td>Bitcoin</td>\n",
       "      <td>8.471430e+11</td>\n",
       "      <td>2.319242e+10</td>\n",
       "    </tr>\n",
       "    <tr>\n",
       "      <th>2</th>\n",
       "      <td>1629331200000</td>\n",
       "      <td>45015.465546</td>\n",
       "      <td>Bitcoin</td>\n",
       "      <td>8.471430e+11</td>\n",
       "      <td>5.030259e+09</td>\n",
       "    </tr>\n",
       "    <tr>\n",
       "      <th>3</th>\n",
       "      <td>1629331200000</td>\n",
       "      <td>45015.465546</td>\n",
       "      <td>Bitcoin</td>\n",
       "      <td>8.471430e+11</td>\n",
       "      <td>4.160522e+09</td>\n",
       "    </tr>\n",
       "    <tr>\n",
       "      <th>4</th>\n",
       "      <td>1629331200000</td>\n",
       "      <td>45015.465546</td>\n",
       "      <td>Bitcoin</td>\n",
       "      <td>8.471430e+11</td>\n",
       "      <td>1.922409e+09</td>\n",
       "    </tr>\n",
       "    <tr>\n",
       "      <th>...</th>\n",
       "      <td>...</td>\n",
       "      <td>...</td>\n",
       "      <td>...</td>\n",
       "      <td>...</td>\n",
       "      <td>...</td>\n",
       "    </tr>\n",
       "    <tr>\n",
       "      <th>364528</th>\n",
       "      <td>1672444800000</td>\n",
       "      <td>9.888231</td>\n",
       "      <td>Solana</td>\n",
       "      <td>3.630517e+09</td>\n",
       "      <td>1.968179e+08</td>\n",
       "    </tr>\n",
       "    <tr>\n",
       "      <th>364529</th>\n",
       "      <td>1672444800000</td>\n",
       "      <td>9.888231</td>\n",
       "      <td>Solana</td>\n",
       "      <td>3.630517e+09</td>\n",
       "      <td>9.901919e+07</td>\n",
       "    </tr>\n",
       "    <tr>\n",
       "      <th>364530</th>\n",
       "      <td>1672444800000</td>\n",
       "      <td>9.888231</td>\n",
       "      <td>Solana</td>\n",
       "      <td>3.630517e+09</td>\n",
       "      <td>4.229407e+07</td>\n",
       "    </tr>\n",
       "    <tr>\n",
       "      <th>364531</th>\n",
       "      <td>1672444800000</td>\n",
       "      <td>9.888231</td>\n",
       "      <td>Solana</td>\n",
       "      <td>3.630517e+09</td>\n",
       "      <td>9.963926e+08</td>\n",
       "    </tr>\n",
       "    <tr>\n",
       "      <th>364532</th>\n",
       "      <td>1672506356000</td>\n",
       "      <td>10.104073</td>\n",
       "      <td>Solana</td>\n",
       "      <td>3.709321e+09</td>\n",
       "      <td>4.663815e+08</td>\n",
       "    </tr>\n",
       "  </tbody>\n",
       "</table>\n",
       "<p>364533 rows × 5 columns</p>\n",
       "</div>"
      ],
      "text/plain": [
       "                 Date         Price     Coin    Market_Cap        Volume\n",
       "0       1629331200000  45015.465546  Bitcoin  8.471430e+11  3.466900e+10\n",
       "1       1629331200000  45015.465546  Bitcoin  8.471430e+11  2.319242e+10\n",
       "2       1629331200000  45015.465546  Bitcoin  8.471430e+11  5.030259e+09\n",
       "3       1629331200000  45015.465546  Bitcoin  8.471430e+11  4.160522e+09\n",
       "4       1629331200000  45015.465546  Bitcoin  8.471430e+11  1.922409e+09\n",
       "...               ...           ...      ...           ...           ...\n",
       "364528  1672444800000      9.888231   Solana  3.630517e+09  1.968179e+08\n",
       "364529  1672444800000      9.888231   Solana  3.630517e+09  9.901919e+07\n",
       "364530  1672444800000      9.888231   Solana  3.630517e+09  4.229407e+07\n",
       "364531  1672444800000      9.888231   Solana  3.630517e+09  9.963926e+08\n",
       "364532  1672506356000     10.104073   Solana  3.709321e+09  4.663815e+08\n",
       "\n",
       "[364533 rows x 5 columns]"
      ]
     },
     "execution_count": 457,
     "metadata": {},
     "output_type": "execute_result"
    }
   ],
   "source": [
    "df"
   ]
  },
  {
   "cell_type": "code",
   "execution_count": 458,
   "id": "0659899c-1545-432e-9bc2-e7d00e522295",
   "metadata": {},
   "outputs": [],
   "source": [
    "df['Date'] = df['Date'].astype(str).str[:-3]"
   ]
  },
  {
   "cell_type": "code",
   "execution_count": 459,
   "id": "ea76c53f-f71b-4c75-8e97-2978d0e777cb",
   "metadata": {},
   "outputs": [],
   "source": [
    "def convert_datetime(timestamp):\n",
    "    timestamp = timestamp\n",
    "    date = datetime.datetime.fromtimestamp(timestamp)\n",
    "    date_string = date.strftime(\"%m-%d-%Y\")\n",
    "    return date_string"
   ]
  },
  {
   "cell_type": "code",
   "execution_count": 460,
   "id": "f7acf6df-d149-47ce-b57c-e0afea737b77",
   "metadata": {},
   "outputs": [],
   "source": [
    "#Convery unix to human readable dates\n",
    "df['Date'] = df['Date'].astype(int)\n",
    "df['Date'] = df['Date'].apply(lambda x: convert_datetime(x))\n",
    "df['Date'] = pd.to_datetime(df.Date)\n",
    "df = df.set_index('Date')"
   ]
  },
  {
   "cell_type": "code",
   "execution_count": 461,
   "id": "0ab5a398-6ba7-4c6a-9d17-066350895404",
   "metadata": {},
   "outputs": [],
   "source": [
    "#Create column for multiple to get to ATH\n",
    "\n",
    "latest_date = df.index.max()\n",
    "multiple_dict = {}\n",
    "for i in df.Coin.unique():\n",
    "    latest_price = df.loc[(df.index == latest_date) & (df.Coin == i)].Price.values[0]\n",
    "    multiple = round(df[df['Coin'] == i].Price.max()/df.loc[(df.index == latest_date) & (df.Coin == i)].Price.values[0], 2)\n",
    "    multiple_dict[i] = multiple\n",
    "df['Multiple'] = df['Coin'].map(multiple_dict)"
   ]
  },
  {
   "cell_type": "code",
   "execution_count": 462,
   "id": "196822f9-acc1-4da6-9739-f30b968e9fc5",
   "metadata": {},
   "outputs": [],
   "source": [
    "#Create column for % diff from ATH\n",
    "latest_date = df.index.max()\n",
    "percent_from_high = {}\n",
    "for i in df.Coin.unique():\n",
    "    latest_price = df.loc[(df.index == latest_date) & (df.Coin == i)].Price.values[0]\n",
    "    max_price = round(df[df['Coin'] == i].Price.max(),2)\n",
    "    percent_diff = round((max_price - latest_price)/max_price,2)\n",
    "    percent_from_high[i] = percent_diff\n",
    "    \n",
    "df['%_from_ATH'] = df['Coin'].map(percent_from_high)"
   ]
  },
  {
   "cell_type": "markdown",
   "id": "13d80309-0c6c-4dea-9321-a5fa1402ef39",
   "metadata": {},
   "source": [
    "# Full DF has lots of rows because volume and market cap have many duplicate values for each day"
   ]
  },
  {
   "cell_type": "code",
   "execution_count": 463,
   "id": "264cf080-6c70-4ed7-a9b2-d08b3a64d7a9",
   "metadata": {},
   "outputs": [
    {
     "data": {
      "text/html": [
       "<div>\n",
       "<style scoped>\n",
       "    .dataframe tbody tr th:only-of-type {\n",
       "        vertical-align: middle;\n",
       "    }\n",
       "\n",
       "    .dataframe tbody tr th {\n",
       "        vertical-align: top;\n",
       "    }\n",
       "\n",
       "    .dataframe thead th {\n",
       "        text-align: right;\n",
       "    }\n",
       "</style>\n",
       "<table border=\"1\" class=\"dataframe\">\n",
       "  <thead>\n",
       "    <tr style=\"text-align: right;\">\n",
       "      <th></th>\n",
       "      <th>Price</th>\n",
       "      <th>Coin</th>\n",
       "      <th>Market_Cap</th>\n",
       "      <th>Volume</th>\n",
       "      <th>Multiple</th>\n",
       "      <th>%_from_ATH</th>\n",
       "    </tr>\n",
       "    <tr>\n",
       "      <th>Date</th>\n",
       "      <th></th>\n",
       "      <th></th>\n",
       "      <th></th>\n",
       "      <th></th>\n",
       "      <th></th>\n",
       "      <th></th>\n",
       "    </tr>\n",
       "  </thead>\n",
       "  <tbody>\n",
       "    <tr>\n",
       "      <th>2021-08-18</th>\n",
       "      <td>45015.465546</td>\n",
       "      <td>Bitcoin</td>\n",
       "      <td>8.471430e+11</td>\n",
       "      <td>3.466900e+10</td>\n",
       "      <td>4.08</td>\n",
       "      <td>0.75</td>\n",
       "    </tr>\n",
       "    <tr>\n",
       "      <th>2021-08-18</th>\n",
       "      <td>45015.465546</td>\n",
       "      <td>Bitcoin</td>\n",
       "      <td>8.471430e+11</td>\n",
       "      <td>2.319242e+10</td>\n",
       "      <td>4.08</td>\n",
       "      <td>0.75</td>\n",
       "    </tr>\n",
       "    <tr>\n",
       "      <th>2021-08-18</th>\n",
       "      <td>45015.465546</td>\n",
       "      <td>Bitcoin</td>\n",
       "      <td>8.471430e+11</td>\n",
       "      <td>5.030259e+09</td>\n",
       "      <td>4.08</td>\n",
       "      <td>0.75</td>\n",
       "    </tr>\n",
       "    <tr>\n",
       "      <th>2021-08-18</th>\n",
       "      <td>45015.465546</td>\n",
       "      <td>Bitcoin</td>\n",
       "      <td>8.471430e+11</td>\n",
       "      <td>4.160522e+09</td>\n",
       "      <td>4.08</td>\n",
       "      <td>0.75</td>\n",
       "    </tr>\n",
       "    <tr>\n",
       "      <th>2021-08-18</th>\n",
       "      <td>45015.465546</td>\n",
       "      <td>Bitcoin</td>\n",
       "      <td>8.471430e+11</td>\n",
       "      <td>1.922409e+09</td>\n",
       "      <td>4.08</td>\n",
       "      <td>0.75</td>\n",
       "    </tr>\n",
       "    <tr>\n",
       "      <th>...</th>\n",
       "      <td>...</td>\n",
       "      <td>...</td>\n",
       "      <td>...</td>\n",
       "      <td>...</td>\n",
       "      <td>...</td>\n",
       "      <td>...</td>\n",
       "    </tr>\n",
       "    <tr>\n",
       "      <th>2022-12-30</th>\n",
       "      <td>9.888231</td>\n",
       "      <td>Solana</td>\n",
       "      <td>3.630517e+09</td>\n",
       "      <td>1.968179e+08</td>\n",
       "      <td>25.66</td>\n",
       "      <td>0.96</td>\n",
       "    </tr>\n",
       "    <tr>\n",
       "      <th>2022-12-30</th>\n",
       "      <td>9.888231</td>\n",
       "      <td>Solana</td>\n",
       "      <td>3.630517e+09</td>\n",
       "      <td>9.901919e+07</td>\n",
       "      <td>25.66</td>\n",
       "      <td>0.96</td>\n",
       "    </tr>\n",
       "    <tr>\n",
       "      <th>2022-12-30</th>\n",
       "      <td>9.888231</td>\n",
       "      <td>Solana</td>\n",
       "      <td>3.630517e+09</td>\n",
       "      <td>4.229407e+07</td>\n",
       "      <td>25.66</td>\n",
       "      <td>0.96</td>\n",
       "    </tr>\n",
       "    <tr>\n",
       "      <th>2022-12-30</th>\n",
       "      <td>9.888231</td>\n",
       "      <td>Solana</td>\n",
       "      <td>3.630517e+09</td>\n",
       "      <td>9.963926e+08</td>\n",
       "      <td>25.66</td>\n",
       "      <td>0.96</td>\n",
       "    </tr>\n",
       "    <tr>\n",
       "      <th>2022-12-31</th>\n",
       "      <td>10.104073</td>\n",
       "      <td>Solana</td>\n",
       "      <td>3.709321e+09</td>\n",
       "      <td>4.663815e+08</td>\n",
       "      <td>25.66</td>\n",
       "      <td>0.96</td>\n",
       "    </tr>\n",
       "  </tbody>\n",
       "</table>\n",
       "<p>364533 rows × 6 columns</p>\n",
       "</div>"
      ],
      "text/plain": [
       "                   Price     Coin    Market_Cap        Volume  Multiple  \\\n",
       "Date                                                                      \n",
       "2021-08-18  45015.465546  Bitcoin  8.471430e+11  3.466900e+10      4.08   \n",
       "2021-08-18  45015.465546  Bitcoin  8.471430e+11  2.319242e+10      4.08   \n",
       "2021-08-18  45015.465546  Bitcoin  8.471430e+11  5.030259e+09      4.08   \n",
       "2021-08-18  45015.465546  Bitcoin  8.471430e+11  4.160522e+09      4.08   \n",
       "2021-08-18  45015.465546  Bitcoin  8.471430e+11  1.922409e+09      4.08   \n",
       "...                  ...      ...           ...           ...       ...   \n",
       "2022-12-30      9.888231   Solana  3.630517e+09  1.968179e+08     25.66   \n",
       "2022-12-30      9.888231   Solana  3.630517e+09  9.901919e+07     25.66   \n",
       "2022-12-30      9.888231   Solana  3.630517e+09  4.229407e+07     25.66   \n",
       "2022-12-30      9.888231   Solana  3.630517e+09  9.963926e+08     25.66   \n",
       "2022-12-31     10.104073   Solana  3.709321e+09  4.663815e+08     25.66   \n",
       "\n",
       "            %_from_ATH  \n",
       "Date                    \n",
       "2021-08-18        0.75  \n",
       "2021-08-18        0.75  \n",
       "2021-08-18        0.75  \n",
       "2021-08-18        0.75  \n",
       "2021-08-18        0.75  \n",
       "...                ...  \n",
       "2022-12-30        0.96  \n",
       "2022-12-30        0.96  \n",
       "2022-12-30        0.96  \n",
       "2022-12-30        0.96  \n",
       "2022-12-31        0.96  \n",
       "\n",
       "[364533 rows x 6 columns]"
      ]
     },
     "execution_count": 463,
     "metadata": {},
     "output_type": "execute_result"
    }
   ],
   "source": [
    "df"
   ]
  },
  {
   "cell_type": "markdown",
   "id": "15cb7517-e704-4383-a0b6-c98c0d220741",
   "metadata": {},
   "source": [
    "# Creating a subset DF with one value per day"
   ]
  },
  {
   "cell_type": "code",
   "execution_count": 496,
   "id": "2e2af49a-07be-437f-b441-210027023b63",
   "metadata": {},
   "outputs": [
    {
     "data": {
      "text/html": [
       "<div>\n",
       "<style scoped>\n",
       "    .dataframe tbody tr th:only-of-type {\n",
       "        vertical-align: middle;\n",
       "    }\n",
       "\n",
       "    .dataframe tbody tr th {\n",
       "        vertical-align: top;\n",
       "    }\n",
       "\n",
       "    .dataframe thead th {\n",
       "        text-align: right;\n",
       "    }\n",
       "</style>\n",
       "<table border=\"1\" class=\"dataframe\">\n",
       "  <thead>\n",
       "    <tr style=\"text-align: right;\">\n",
       "      <th></th>\n",
       "      <th>Price</th>\n",
       "      <th>Coin</th>\n",
       "      <th>Market_Cap</th>\n",
       "      <th>Volume</th>\n",
       "      <th>Multiple</th>\n",
       "      <th>%_from_ATH</th>\n",
       "    </tr>\n",
       "    <tr>\n",
       "      <th>Date</th>\n",
       "      <th></th>\n",
       "      <th></th>\n",
       "      <th></th>\n",
       "      <th></th>\n",
       "      <th></th>\n",
       "      <th></th>\n",
       "    </tr>\n",
       "  </thead>\n",
       "  <tbody>\n",
       "    <tr>\n",
       "      <th>2021-08-18</th>\n",
       "      <td>45015.465546</td>\n",
       "      <td>Bitcoin</td>\n",
       "      <td>8.471430e+11</td>\n",
       "      <td>3.466900e+10</td>\n",
       "      <td>4.08</td>\n",
       "      <td>0.75</td>\n",
       "    </tr>\n",
       "    <tr>\n",
       "      <th>2021-08-19</th>\n",
       "      <td>46745.034623</td>\n",
       "      <td>Bitcoin</td>\n",
       "      <td>8.676507e+11</td>\n",
       "      <td>3.843481e+10</td>\n",
       "      <td>4.08</td>\n",
       "      <td>0.75</td>\n",
       "    </tr>\n",
       "    <tr>\n",
       "      <th>2021-08-20</th>\n",
       "      <td>49195.878602</td>\n",
       "      <td>Bitcoin</td>\n",
       "      <td>9.230134e+11</td>\n",
       "      <td>3.649709e+10</td>\n",
       "      <td>4.08</td>\n",
       "      <td>0.75</td>\n",
       "    </tr>\n",
       "    <tr>\n",
       "      <th>2021-08-21</th>\n",
       "      <td>48933.689151</td>\n",
       "      <td>Bitcoin</td>\n",
       "      <td>9.207502e+11</td>\n",
       "      <td>4.214773e+10</td>\n",
       "      <td>4.08</td>\n",
       "      <td>0.75</td>\n",
       "    </tr>\n",
       "    <tr>\n",
       "      <th>2021-08-22</th>\n",
       "      <td>49250.544870</td>\n",
       "      <td>Bitcoin</td>\n",
       "      <td>9.256301e+11</td>\n",
       "      <td>2.711018e+10</td>\n",
       "      <td>4.08</td>\n",
       "      <td>0.75</td>\n",
       "    </tr>\n",
       "  </tbody>\n",
       "</table>\n",
       "</div>"
      ],
      "text/plain": [
       "                   Price     Coin    Market_Cap        Volume  Multiple  \\\n",
       "Date                                                                      \n",
       "2021-08-18  45015.465546  Bitcoin  8.471430e+11  3.466900e+10      4.08   \n",
       "2021-08-19  46745.034623  Bitcoin  8.676507e+11  3.843481e+10      4.08   \n",
       "2021-08-20  49195.878602  Bitcoin  9.230134e+11  3.649709e+10      4.08   \n",
       "2021-08-21  48933.689151  Bitcoin  9.207502e+11  4.214773e+10      4.08   \n",
       "2021-08-22  49250.544870  Bitcoin  9.256301e+11  2.711018e+10      4.08   \n",
       "\n",
       "            %_from_ATH  \n",
       "Date                    \n",
       "2021-08-18        0.75  \n",
       "2021-08-19        0.75  \n",
       "2021-08-20        0.75  \n",
       "2021-08-21        0.75  \n",
       "2021-08-22        0.75  "
      ]
     },
     "execution_count": 496,
     "metadata": {},
     "output_type": "execute_result"
    }
   ],
   "source": [
    "daily_df = df.drop_duplicates(subset='Price')\n",
    "daily_df.head()"
   ]
  },
  {
   "cell_type": "code",
   "execution_count": 505,
   "id": "a2a51ff6-ed58-44e8-9366-a2e94618e291",
   "metadata": {},
   "outputs": [
    {
     "data": {
      "image/png": "[encoded data removed]",
      "text/plain": [
       "<Figure size 720x432 with 2 Axes>"
      ]
     },
     "metadata": {
      "needs_background": "light"
     },
     "output_type": "display_data"
    }
   ],
   "source": [
    "# data for the chart\n",
    "x = df.index\n",
    "y1 = df.Price\n",
    "y2 = df.Market_Cap\n",
    "\n",
    "# create the plot\n",
    "fig, ax1 = plt.subplots()\n",
    "# plot the first column on the left axis\n",
    "ax1.plot(x, y1, label='Price', color = 'g')\n",
    "ax1.set_ylabel('Price')\n",
    "\n",
    "# create a second axis for the second column\n",
    "ax2 = ax1.twinx()\n",
    "\n",
    "# plot the second column on the right axis\n",
    "ax2.plot(x, y2, label='Market Cap')\n",
    "ax2.set_ylabel('Market Cap')\n",
    "\n",
    "# add a legend\n",
    "ax1.legend(loc='upper left')\n",
    "ax2.legend(loc='upper right')\n",
    "\n",
    "# show the plot\n",
    "plt.show()"
   ]
  },
  {
   "cell_type": "code",
   "execution_count": 509,
   "id": "e6a9c6bc-7a44-4eca-92b7-9cd2b39e1da4",
   "metadata": {},
   "outputs": [],
   "source": [
    "nov = df.loc['11-01-22':]"
   ]
  },
  {
   "cell_type": "code",
   "execution_count": 510,
   "id": "207dc149-8112-4fd1-a96a-d6a635158154",
   "metadata": {},
   "outputs": [
    {
     "data": {
      "image/png": "[encoded data removed]",
      "text/plain": [
       "<Figure size 720x432 with 2 Axes>"
      ]
     },
     "metadata": {
      "needs_background": "light"
     },
     "output_type": "display_data"
    }
   ],
   "source": [
    "# data for the chart\n",
    "x = nov.index\n",
    "y1 = nov.Price\n",
    "y2 = nov.Volume\n",
    "\n",
    "# create the plot\n",
    "fig, ax1 = plt.subplots()\n",
    "# plot the first column on the left axis\n",
    "ax1.plot(x, y1, label='Price', color = 'g')\n",
    "ax1.set_ylabel('Price')\n",
    "\n",
    "# create a second axis for the second column\n",
    "ax2 = ax1.twinx()\n",
    "\n",
    "# plot the second column on the right axis\n",
    "ax2.plot(x, y2, label='Volume')\n",
    "ax2.set_ylabel('Volume')\n",
    "\n",
    "# add a legend\n",
    "ax1.legend(loc='upper left')\n",
    "ax2.legend(loc='upper right')\n",
    "\n",
    "# show the plot\n",
    "plt.show()\n"
   ]
  },
  {
   "cell_type": "code",
   "execution_count": 499,
   "id": "70eed15e-ba81-4c13-911a-8bf95c0c9020",
   "metadata": {},
   "outputs": [
    {
     "data": {
      "image/png": "[encoded data removed]",
      "text/plain": [
       "<Figure size 720x432 with 1 Axes>"
      ]
     },
     "metadata": {
      "needs_background": "light"
     },
     "output_type": "display_data"
    }
   ],
   "source": [
    "plt.rcParams['figure.figsize'] = (10, 6)\n",
    "\n",
    "sns.lineplot(x=daily_df.index, y=daily_df['Price'], hue=daily_df['Coin'])\n",
    "plt.xticks(rotation='45');"
   ]
  },
  {
   "cell_type": "code",
   "execution_count": 273,
   "id": "1f6c61bd-1929-487c-a5f5-8cb59e83d3d5",
   "metadata": {},
   "outputs": [
    {
     "data": {
      "image/png": "[encoded data removed]",
      "text/plain": [
       "<Figure size 720x432 with 1 Axes>"
      ]
     },
     "metadata": {
      "needs_background": "light"
     },
     "output_type": "display_data"
    }
   ],
   "source": [
    "df1 = df.groupby('Coin')[['Multiple']].mean().sort_values(by='Multiple')\n",
    "\n",
    "plt.rcParams['figure.figsize'] = (10, 6)\n",
    "\n",
    "sns.barplot(data=df1, x=df1.index, y='Multiple', palette='inferno');"
   ]
  },
  {
   "cell_type": "code",
   "execution_count": 274,
   "id": "368f6890-3195-451f-8e94-b427425aeb15",
   "metadata": {},
   "outputs": [
    {
     "data": {
      "image/png": "[encoded data removed]",
      "text/plain": [
       "<Figure size 720x432 with 1 Axes>"
      ]
     },
     "metadata": {
      "needs_background": "light"
     },
     "output_type": "display_data"
    }
   ],
   "source": [
    "df2 = consolidated_df.groupby('Coin')[['%_from_ATH']].mean().sort_values(by='%_from_ATH')\n",
    "\n",
    "plt.rcParams['figure.figsize'] = (10, 6)\n",
    "\n",
    "sns.barplot(data=df2, x=df2.index, y='%_from_ATH', palette='rocket_r');"
   ]
  },
  {
   "cell_type": "code",
   "execution_count": 507,
   "id": "44620d95-8e77-4fd3-af94-1a173da06dde",
   "metadata": {},
   "outputs": [
    {
     "data": {
      "text/plain": [
       "<AxesSubplot:>"
      ]
     },
     "execution_count": 507,
     "metadata": {},
     "output_type": "execute_result"
    },
    {
     "data": {
      "image/png": "[encoded data removed]",
      "text/plain": [
       "<Figure size 720x432 with 2 Axes>"
      ]
     },
     "metadata": {
      "needs_background": "light"
     },
     "output_type": "display_data"
    }
   ],
   "source": [
    "sns.heatmap(daily_df.corr())"
   ]
  },
  {
   "cell_type": "code",
   "execution_count": null,
   "id": "37b26071-f50d-4c8b-9e10-4b7321b330a5",
   "metadata": {},
   "outputs": [],
   "source": []
  }
 ],
 "metadata": {
  "kernelspec": {
   "display_name": "Python 3",
   "language": "python",
   "name": "python3"
  },
  "language_info": {
   "codemirror_mode": {
    "name": "ipython",
    "version": 3
   },
   "file_extension": ".py",
   "mimetype": "text/x-python",
   "name": "python",
   "nbconvert_exporter": "python",
   "pygments_lexer": "ipython3",
   "version": "3.8.8"
  }
 },
 "nbformat": 4,
 "nbformat_minor": 5
}
