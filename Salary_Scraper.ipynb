{
 "cells": [
  {
   "cell_type": "code",
   "execution_count": 355,
   "id": "14bdaf31-6ecd-430c-8734-5a9f8378f3e8",
   "metadata": {},
   "outputs": [],
   "source": [
    "import pandas as pd\n",
    "import re\n",
    "import csv\n",
    "import json\n",
    "from time import sleep\n",
    "from bs4 import BeautifulSoup\n",
    "import requests\n",
    "from datetime import datetime"
   ]
  },
  {
   "cell_type": "code",
   "execution_count": 356,
   "id": "b6c35877-7ca0-4549-aa20-df5f02770f7d",
   "metadata": {},
   "outputs": [],
   "source": [
    "# Get the current date and time\n",
    "now = datetime.now()\n",
    "\n",
    "# Extract just the date\n",
    "today = now.date()"
   ]
  },
  {
   "cell_type": "code",
   "execution_count": 357,
   "id": "12cec9ed-2f34-4928-bba8-e4cef4dc4153",
   "metadata": {},
   "outputs": [
    {
     "name": "stdout",
     "output_type": "stream",
     "text": [
      "2022-12-29\n"
     ]
    }
   ],
   "source": [
    "print(today)"
   ]
  },
  {
   "cell_type": "code",
   "execution_count": 343,
   "id": "96b1f3d4-4df6-4822-9e76-16e1c1886148",
   "metadata": {},
   "outputs": [],
   "source": [
    "#Refresh DF\n",
    "df = pd.DataFrame()"
   ]
  },
  {
   "cell_type": "code",
   "execution_count": 358,
   "id": "be4a199e-697b-41c5-8035-54393ddf3d8e",
   "metadata": {},
   "outputs": [],
   "source": [
    "def get_base(title, location):\n",
    "    \n",
    "    #Clean parameters\n",
    "    title = title.lower().replace(' ','-')\n",
    "    location = location.lower().replace(' ', '-')\n",
    "    \n",
    "    #Assign initial template\n",
    "    template = 'https://www.salary.com/research/salary/listing/{}-salary/{}'\n",
    "    url = template.format(title, location)\n",
    "    response = requests.get(url)\n",
    "    \n",
    "    if response.status_code != 200:\n",
    "        template = 'https://www.salary.com/research/salary/alternate/{}-salary/{}'\n",
    "        url = template.format(title, location)\n",
    "        response = requests.get(url)\n",
    "\n",
    "    if response.status_code != 200:\n",
    "        template = 'https://www.salary.com/research/salary/benchmark/{}-salary/{}'\n",
    "        url = template.format(title, location)\n",
    "        response = requests.get(url)\n",
    "        \n",
    "    soup = BeautifulSoup(response.text, 'html.parser')\n",
    "    \n",
    "    #Determine which text block you want to scrape\n",
    "    pattern = re.compile(r'Occupation')\n",
    "    script = soup.find('script', {'type':'application/ld+json'}, text=pattern)\n",
    "    \n",
    "    #Turn text data into dictionary\n",
    "    json_raw = script.contents[0]\n",
    "    json_data = json.loads(json_raw)\n",
    "    \n",
    "    business_title = json_data['name']\n",
    "    median = int(json_data['estimatedSalary'][0]['median'])\n",
    "    \n",
    "    print(f\"The median base salary for a {business_title} in {city} is ${median:,.0f}\")\n",
    "    \n",
    "    #Save results to dictionary\n",
    "    res = {'Query Date':today, 'Business Title':business_title, 'City':city, 'Median':median}\n",
    "    \n",
    "    #Append results to DataFrame\n",
    "    global df\n",
    "    df = df.append(res, ignore_index=True)\n",
    "    \n",
    "    df = df[['Query Date', 'Business Title', 'City','Median']]\n",
    "    \n",
    "    return df"
   ]
  },
  {
   "cell_type": "code",
   "execution_count": 359,
   "id": "7fb288b4-a134-476d-a357-c9865081bf1c",
   "metadata": {},
   "outputs": [
    {
     "name": "stdout",
     "output_type": "stream",
     "text": [
      "The median base salary for a Data Scientist IV in San Francisco Ca is $172,696\n"
     ]
    },
    {
     "data": {
      "text/html": [
       "<div>\n",
       "<style scoped>\n",
       "    .dataframe tbody tr th:only-of-type {\n",
       "        vertical-align: middle;\n",
       "    }\n",
       "\n",
       "    .dataframe tbody tr th {\n",
       "        vertical-align: top;\n",
       "    }\n",
       "\n",
       "    .dataframe thead th {\n",
       "        text-align: right;\n",
       "    }\n",
       "</style>\n",
       "<table border=\"1\" class=\"dataframe\">\n",
       "  <thead>\n",
       "    <tr style=\"text-align: right;\">\n",
       "      <th></th>\n",
       "      <th>Query Date</th>\n",
       "      <th>Business Title</th>\n",
       "      <th>City</th>\n",
       "      <th>Median</th>\n",
       "    </tr>\n",
       "  </thead>\n",
       "  <tbody>\n",
       "    <tr>\n",
       "      <th>0</th>\n",
       "      <td>2022-12-29</td>\n",
       "      <td>Data Scientist IV</td>\n",
       "      <td>San Francisco Ca</td>\n",
       "      <td>172696.0</td>\n",
       "    </tr>\n",
       "    <tr>\n",
       "      <th>1</th>\n",
       "      <td>2022-12-29</td>\n",
       "      <td>Associate Data Scientist</td>\n",
       "      <td>San Francisco Ca</td>\n",
       "      <td>113819.0</td>\n",
       "    </tr>\n",
       "    <tr>\n",
       "      <th>2</th>\n",
       "      <td>2022-12-29</td>\n",
       "      <td>Director Global Compensation</td>\n",
       "      <td>San Francisco Ca</td>\n",
       "      <td>244300.0</td>\n",
       "    </tr>\n",
       "    <tr>\n",
       "      <th>3</th>\n",
       "      <td>2022-12-29</td>\n",
       "      <td>Senior Compensation Analyst</td>\n",
       "      <td>San Francisco Ca</td>\n",
       "      <td>120490.0</td>\n",
       "    </tr>\n",
       "    <tr>\n",
       "      <th>4</th>\n",
       "      <td>2022-12-29</td>\n",
       "      <td>Data Scientist IV</td>\n",
       "      <td>San Francisco Ca</td>\n",
       "      <td>172696.0</td>\n",
       "    </tr>\n",
       "  </tbody>\n",
       "</table>\n",
       "</div>"
      ],
      "text/plain": [
       "   Query Date                Business Title              City    Median\n",
       "0  2022-12-29             Data Scientist IV  San Francisco Ca  172696.0\n",
       "1  2022-12-29      Associate Data Scientist  San Francisco Ca  113819.0\n",
       "2  2022-12-29  Director Global Compensation  San Francisco Ca  244300.0\n",
       "3  2022-12-29   Senior Compensation Analyst  San Francisco Ca  120490.0\n",
       "4  2022-12-29             Data Scientist IV  San Francisco Ca  172696.0"
      ]
     },
     "execution_count": 359,
     "metadata": {},
     "output_type": "execute_result"
    }
   ],
   "source": [
    "get_base('data scientist IV','san francisco CA')"
   ]
  },
  {
   "cell_type": "code",
   "execution_count": 360,
   "id": "77bbf3d6-37e7-439b-84f5-c08bf8ed3274",
   "metadata": {},
   "outputs": [
    {
     "name": "stdout",
     "output_type": "stream",
     "text": [
      "The median base salary for a Associate Data Scientist in San Francisco Ca is $113,819\n"
     ]
    },
    {
     "data": {
      "text/html": [
       "<div>\n",
       "<style scoped>\n",
       "    .dataframe tbody tr th:only-of-type {\n",
       "        vertical-align: middle;\n",
       "    }\n",
       "\n",
       "    .dataframe tbody tr th {\n",
       "        vertical-align: top;\n",
       "    }\n",
       "\n",
       "    .dataframe thead th {\n",
       "        text-align: right;\n",
       "    }\n",
       "</style>\n",
       "<table border=\"1\" class=\"dataframe\">\n",
       "  <thead>\n",
       "    <tr style=\"text-align: right;\">\n",
       "      <th></th>\n",
       "      <th>Query Date</th>\n",
       "      <th>Business Title</th>\n",
       "      <th>City</th>\n",
       "      <th>Median</th>\n",
       "    </tr>\n",
       "  </thead>\n",
       "  <tbody>\n",
       "    <tr>\n",
       "      <th>0</th>\n",
       "      <td>2022-12-29</td>\n",
       "      <td>Data Scientist IV</td>\n",
       "      <td>San Francisco Ca</td>\n",
       "      <td>172696.0</td>\n",
       "    </tr>\n",
       "    <tr>\n",
       "      <th>1</th>\n",
       "      <td>2022-12-29</td>\n",
       "      <td>Associate Data Scientist</td>\n",
       "      <td>San Francisco Ca</td>\n",
       "      <td>113819.0</td>\n",
       "    </tr>\n",
       "    <tr>\n",
       "      <th>2</th>\n",
       "      <td>2022-12-29</td>\n",
       "      <td>Director Global Compensation</td>\n",
       "      <td>San Francisco Ca</td>\n",
       "      <td>244300.0</td>\n",
       "    </tr>\n",
       "    <tr>\n",
       "      <th>3</th>\n",
       "      <td>2022-12-29</td>\n",
       "      <td>Senior Compensation Analyst</td>\n",
       "      <td>San Francisco Ca</td>\n",
       "      <td>120490.0</td>\n",
       "    </tr>\n",
       "    <tr>\n",
       "      <th>4</th>\n",
       "      <td>2022-12-29</td>\n",
       "      <td>Data Scientist IV</td>\n",
       "      <td>San Francisco Ca</td>\n",
       "      <td>172696.0</td>\n",
       "    </tr>\n",
       "    <tr>\n",
       "      <th>5</th>\n",
       "      <td>2022-12-29</td>\n",
       "      <td>Associate Data Scientist</td>\n",
       "      <td>San Francisco Ca</td>\n",
       "      <td>113819.0</td>\n",
       "    </tr>\n",
       "  </tbody>\n",
       "</table>\n",
       "</div>"
      ],
      "text/plain": [
       "   Query Date                Business Title              City    Median\n",
       "0  2022-12-29             Data Scientist IV  San Francisco Ca  172696.0\n",
       "1  2022-12-29      Associate Data Scientist  San Francisco Ca  113819.0\n",
       "2  2022-12-29  Director Global Compensation  San Francisco Ca  244300.0\n",
       "3  2022-12-29   Senior Compensation Analyst  San Francisco Ca  120490.0\n",
       "4  2022-12-29             Data Scientist IV  San Francisco Ca  172696.0\n",
       "5  2022-12-29      Associate Data Scientist  San Francisco Ca  113819.0"
      ]
     },
     "execution_count": 360,
     "metadata": {},
     "output_type": "execute_result"
    }
   ],
   "source": [
    "get_base('associate data scientist', 'san francisco ca')"
   ]
  },
  {
   "cell_type": "code",
   "execution_count": 361,
   "id": "475e3b84-5ffc-421a-878d-754b71100e9b",
   "metadata": {},
   "outputs": [
    {
     "name": "stdout",
     "output_type": "stream",
     "text": [
      "The median base salary for a Director Global Compensation in San Francisco Ca is $244,300\n"
     ]
    },
    {
     "data": {
      "text/html": [
       "<div>\n",
       "<style scoped>\n",
       "    .dataframe tbody tr th:only-of-type {\n",
       "        vertical-align: middle;\n",
       "    }\n",
       "\n",
       "    .dataframe tbody tr th {\n",
       "        vertical-align: top;\n",
       "    }\n",
       "\n",
       "    .dataframe thead th {\n",
       "        text-align: right;\n",
       "    }\n",
       "</style>\n",
       "<table border=\"1\" class=\"dataframe\">\n",
       "  <thead>\n",
       "    <tr style=\"text-align: right;\">\n",
       "      <th></th>\n",
       "      <th>Query Date</th>\n",
       "      <th>Business Title</th>\n",
       "      <th>City</th>\n",
       "      <th>Median</th>\n",
       "    </tr>\n",
       "  </thead>\n",
       "  <tbody>\n",
       "    <tr>\n",
       "      <th>0</th>\n",
       "      <td>2022-12-29</td>\n",
       "      <td>Data Scientist IV</td>\n",
       "      <td>San Francisco Ca</td>\n",
       "      <td>172696.0</td>\n",
       "    </tr>\n",
       "    <tr>\n",
       "      <th>1</th>\n",
       "      <td>2022-12-29</td>\n",
       "      <td>Associate Data Scientist</td>\n",
       "      <td>San Francisco Ca</td>\n",
       "      <td>113819.0</td>\n",
       "    </tr>\n",
       "    <tr>\n",
       "      <th>2</th>\n",
       "      <td>2022-12-29</td>\n",
       "      <td>Director Global Compensation</td>\n",
       "      <td>San Francisco Ca</td>\n",
       "      <td>244300.0</td>\n",
       "    </tr>\n",
       "    <tr>\n",
       "      <th>3</th>\n",
       "      <td>2022-12-29</td>\n",
       "      <td>Senior Compensation Analyst</td>\n",
       "      <td>San Francisco Ca</td>\n",
       "      <td>120490.0</td>\n",
       "    </tr>\n",
       "    <tr>\n",
       "      <th>4</th>\n",
       "      <td>2022-12-29</td>\n",
       "      <td>Data Scientist IV</td>\n",
       "      <td>San Francisco Ca</td>\n",
       "      <td>172696.0</td>\n",
       "    </tr>\n",
       "    <tr>\n",
       "      <th>5</th>\n",
       "      <td>2022-12-29</td>\n",
       "      <td>Associate Data Scientist</td>\n",
       "      <td>San Francisco Ca</td>\n",
       "      <td>113819.0</td>\n",
       "    </tr>\n",
       "    <tr>\n",
       "      <th>6</th>\n",
       "      <td>2022-12-29</td>\n",
       "      <td>Director Global Compensation</td>\n",
       "      <td>San Francisco Ca</td>\n",
       "      <td>244300.0</td>\n",
       "    </tr>\n",
       "  </tbody>\n",
       "</table>\n",
       "</div>"
      ],
      "text/plain": [
       "   Query Date                Business Title              City    Median\n",
       "0  2022-12-29             Data Scientist IV  San Francisco Ca  172696.0\n",
       "1  2022-12-29      Associate Data Scientist  San Francisco Ca  113819.0\n",
       "2  2022-12-29  Director Global Compensation  San Francisco Ca  244300.0\n",
       "3  2022-12-29   Senior Compensation Analyst  San Francisco Ca  120490.0\n",
       "4  2022-12-29             Data Scientist IV  San Francisco Ca  172696.0\n",
       "5  2022-12-29      Associate Data Scientist  San Francisco Ca  113819.0\n",
       "6  2022-12-29  Director Global Compensation  San Francisco Ca  244300.0"
      ]
     },
     "execution_count": 361,
     "metadata": {},
     "output_type": "execute_result"
    }
   ],
   "source": [
    "get_base('Director Global Compensation', 'san francisco ca')"
   ]
  },
  {
   "cell_type": "code",
   "execution_count": 363,
   "id": "c6c54cce-cb01-4ac9-bd2a-5c549fae68a4",
   "metadata": {},
   "outputs": [
    {
     "name": "stdout",
     "output_type": "stream",
     "text": [
      "The median base salary for a Senior Compensation Analyst in San Francisco Ca is $120,490\n"
     ]
    },
    {
     "data": {
      "text/html": [
       "<div>\n",
       "<style scoped>\n",
       "    .dataframe tbody tr th:only-of-type {\n",
       "        vertical-align: middle;\n",
       "    }\n",
       "\n",
       "    .dataframe tbody tr th {\n",
       "        vertical-align: top;\n",
       "    }\n",
       "\n",
       "    .dataframe thead th {\n",
       "        text-align: right;\n",
       "    }\n",
       "</style>\n",
       "<table border=\"1\" class=\"dataframe\">\n",
       "  <thead>\n",
       "    <tr style=\"text-align: right;\">\n",
       "      <th></th>\n",
       "      <th>Query Date</th>\n",
       "      <th>Business Title</th>\n",
       "      <th>City</th>\n",
       "      <th>Median</th>\n",
       "    </tr>\n",
       "  </thead>\n",
       "  <tbody>\n",
       "    <tr>\n",
       "      <th>0</th>\n",
       "      <td>2022-12-29</td>\n",
       "      <td>Data Scientist IV</td>\n",
       "      <td>San Francisco Ca</td>\n",
       "      <td>172696.0</td>\n",
       "    </tr>\n",
       "    <tr>\n",
       "      <th>1</th>\n",
       "      <td>2022-12-29</td>\n",
       "      <td>Associate Data Scientist</td>\n",
       "      <td>San Francisco Ca</td>\n",
       "      <td>113819.0</td>\n",
       "    </tr>\n",
       "    <tr>\n",
       "      <th>2</th>\n",
       "      <td>2022-12-29</td>\n",
       "      <td>Director Global Compensation</td>\n",
       "      <td>San Francisco Ca</td>\n",
       "      <td>244300.0</td>\n",
       "    </tr>\n",
       "    <tr>\n",
       "      <th>3</th>\n",
       "      <td>2022-12-29</td>\n",
       "      <td>Senior Compensation Analyst</td>\n",
       "      <td>San Francisco Ca</td>\n",
       "      <td>120490.0</td>\n",
       "    </tr>\n",
       "    <tr>\n",
       "      <th>4</th>\n",
       "      <td>2022-12-29</td>\n",
       "      <td>Data Scientist IV</td>\n",
       "      <td>San Francisco Ca</td>\n",
       "      <td>172696.0</td>\n",
       "    </tr>\n",
       "    <tr>\n",
       "      <th>5</th>\n",
       "      <td>2022-12-29</td>\n",
       "      <td>Associate Data Scientist</td>\n",
       "      <td>San Francisco Ca</td>\n",
       "      <td>113819.0</td>\n",
       "    </tr>\n",
       "    <tr>\n",
       "      <th>6</th>\n",
       "      <td>2022-12-29</td>\n",
       "      <td>Director Global Compensation</td>\n",
       "      <td>San Francisco Ca</td>\n",
       "      <td>244300.0</td>\n",
       "    </tr>\n",
       "    <tr>\n",
       "      <th>7</th>\n",
       "      <td>2022-12-29</td>\n",
       "      <td>Senior Compensation Analyst</td>\n",
       "      <td>San Francisco Ca</td>\n",
       "      <td>120490.0</td>\n",
       "    </tr>\n",
       "  </tbody>\n",
       "</table>\n",
       "</div>"
      ],
      "text/plain": [
       "   Query Date                Business Title              City    Median\n",
       "0  2022-12-29             Data Scientist IV  San Francisco Ca  172696.0\n",
       "1  2022-12-29      Associate Data Scientist  San Francisco Ca  113819.0\n",
       "2  2022-12-29  Director Global Compensation  San Francisco Ca  244300.0\n",
       "3  2022-12-29   Senior Compensation Analyst  San Francisco Ca  120490.0\n",
       "4  2022-12-29             Data Scientist IV  San Francisco Ca  172696.0\n",
       "5  2022-12-29      Associate Data Scientist  San Francisco Ca  113819.0\n",
       "6  2022-12-29  Director Global Compensation  San Francisco Ca  244300.0\n",
       "7  2022-12-29   Senior Compensation Analyst  San Francisco Ca  120490.0"
      ]
     },
     "execution_count": 363,
     "metadata": {},
     "output_type": "execute_result"
    }
   ],
   "source": [
    "get_base('Senior compensation analyst', 'san francisco ca')"
   ]
  },
  {
   "cell_type": "code",
   "execution_count": 362,
   "id": "b82b1e7f-776f-4b7a-b284-129cf8c61ad4",
   "metadata": {},
   "outputs": [
    {
     "name": "stdout",
     "output_type": "stream",
     "text": [
      "<class 'pandas.core.frame.DataFrame'>\n",
      "RangeIndex: 7 entries, 0 to 6\n",
      "Data columns (total 4 columns):\n",
      " #   Column          Non-Null Count  Dtype  \n",
      "---  ------          --------------  -----  \n",
      " 0   Query Date      7 non-null      object \n",
      " 1   Business Title  7 non-null      object \n",
      " 2   City            7 non-null      object \n",
      " 3   Median          7 non-null      float64\n",
      "dtypes: float64(1), object(3)\n",
      "memory usage: 352.0+ bytes\n"
     ]
    }
   ],
   "source": [
    "df.info()"
   ]
  },
  {
   "cell_type": "code",
   "execution_count": 352,
   "id": "3cf66c59-cd27-4b1d-ac7d-36f50a78afc4",
   "metadata": {},
   "outputs": [],
   "source": [
    "df = df.drop_duplicates(keep='first')"
   ]
  },
  {
   "cell_type": "code",
   "execution_count": 353,
   "id": "a9ff348e-1fee-442f-9483-e1540d066797",
   "metadata": {},
   "outputs": [
    {
     "data": {
      "text/html": [
       "<div>\n",
       "<style scoped>\n",
       "    .dataframe tbody tr th:only-of-type {\n",
       "        vertical-align: middle;\n",
       "    }\n",
       "\n",
       "    .dataframe tbody tr th {\n",
       "        vertical-align: top;\n",
       "    }\n",
       "\n",
       "    .dataframe thead th {\n",
       "        text-align: right;\n",
       "    }\n",
       "</style>\n",
       "<table border=\"1\" class=\"dataframe\">\n",
       "  <thead>\n",
       "    <tr style=\"text-align: right;\">\n",
       "      <th></th>\n",
       "      <th>Query Date</th>\n",
       "      <th>Business Title</th>\n",
       "      <th>City</th>\n",
       "      <th>Median</th>\n",
       "    </tr>\n",
       "  </thead>\n",
       "  <tbody>\n",
       "    <tr>\n",
       "      <th>0</th>\n",
       "      <td>2022-12-29</td>\n",
       "      <td>Data Scientist IV</td>\n",
       "      <td>San Francisco Ca</td>\n",
       "      <td>172696.0</td>\n",
       "    </tr>\n",
       "    <tr>\n",
       "      <th>1</th>\n",
       "      <td>2022-12-29</td>\n",
       "      <td>Associate Data Scientist</td>\n",
       "      <td>San Francisco Ca</td>\n",
       "      <td>113819.0</td>\n",
       "    </tr>\n",
       "    <tr>\n",
       "      <th>2</th>\n",
       "      <td>2022-12-29</td>\n",
       "      <td>Director Global Compensation</td>\n",
       "      <td>San Francisco Ca</td>\n",
       "      <td>244300.0</td>\n",
       "    </tr>\n",
       "    <tr>\n",
       "      <th>3</th>\n",
       "      <td>2022-12-29</td>\n",
       "      <td>Senior Compensation Analyst</td>\n",
       "      <td>San Francisco Ca</td>\n",
       "      <td>120490.0</td>\n",
       "    </tr>\n",
       "  </tbody>\n",
       "</table>\n",
       "</div>"
      ],
      "text/plain": [
       "   Query Date                Business Title              City    Median\n",
       "0  2022-12-29             Data Scientist IV  San Francisco Ca  172696.0\n",
       "1  2022-12-29      Associate Data Scientist  San Francisco Ca  113819.0\n",
       "2  2022-12-29  Director Global Compensation  San Francisco Ca  244300.0\n",
       "3  2022-12-29   Senior Compensation Analyst  San Francisco Ca  120490.0"
      ]
     },
     "execution_count": 353,
     "metadata": {},
     "output_type": "execute_result"
    }
   ],
   "source": [
    "df"
   ]
  },
  {
   "cell_type": "code",
   "execution_count": 354,
   "id": "d79de374-38ba-41c4-885f-9030132ac040",
   "metadata": {},
   "outputs": [
    {
     "data": {
      "image/png": "[encoded data removed]",
      "text/plain": [
       "<Figure size 432x288 with 1 Axes>"
      ]
     },
     "metadata": {
      "needs_background": "light"
     },
     "output_type": "display_data"
    }
   ],
   "source": [
    "import seaborn as sns\n",
    "import matplotlib.pyplot as plt\n",
    "\n",
    "sns.barplot(data = df, x = 'Business Title', y='Median')\n",
    "plt.xticks(rotation=45);"
   ]
  },
  {
   "cell_type": "code",
   "execution_count": null,
   "id": "9bb73ca9-1872-41b2-8e41-a10f3fe9edbf",
   "metadata": {},
   "outputs": [],
   "source": []
  }
 ],
 "metadata": {
  "kernelspec": {
   "display_name": "Python 3",
   "language": "python",
   "name": "python3"
  },
  "language_info": {
   "codemirror_mode": {
    "name": "ipython",
    "version": 3
   },
   "file_extension": ".py",
   "mimetype": "text/x-python",
   "name": "python",
   "nbconvert_exporter": "python",
   "pygments_lexer": "ipython3",
   "version": "3.8.8"
  }
 },
 "nbformat": 4,
 "nbformat_minor": 5
}
